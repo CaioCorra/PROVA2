{
 "cells": [
  {
   "cell_type": "code",
   "execution_count": 19,
   "id": "0f56a69c-7009-4a83-a5bb-b168a7fce766",
   "metadata": {},
   "outputs": [
    {
     "name": "stdout",
     "output_type": "stream",
     "text": [
      "lista original:  [150, 29, 10, 14, 37, 13, 88, 2, -89, 102]\n",
      "lista ordenada:  [-89, 2, 10, 13, 14, 29, 37, 88, 102, 150]\n",
      "Maior elemento da lista 150\n"
     ]
    }
   ],
   "source": [
    "def selection_sort(arr):\n",
    "    for i in range(len(arr)):\n",
    "        min_idx = i\n",
    "        for j in range(i + 1, len(arr)):\n",
    "            if arr[j] < arr[min_idx]:\n",
    "                min_idx = j\n",
    "        arr[i], arr[min_idx] = arr[min_idx], arr[i]\n",
    "    return arr\n",
    "\n",
    "def biggest(lista):\n",
    "    lista_ord = selection_sort(lista)\n",
    "    return lista_ord[len(lista_ord) - 1]\n",
    "    \n",
    "lista = [150, 29, 10, 14, 37, 13, 88, 2, -89, 102]\n",
    "print(\"lista original: \", lista)\n",
    "print(\"lista ordenada: \", selection_sort(lista))\n",
    "print(\"Maior elemento da lista\", biggest(lista))"
   ]
  },
  {
   "cell_type": "code",
   "execution_count": null,
   "id": "08a0842f-cffc-4dfc-a4d9-e072e7730a15",
   "metadata": {},
   "outputs": [],
   "source": []
  }
 ],
 "metadata": {
  "kernelspec": {
   "display_name": "Python 3 (ipykernel)",
   "language": "python",
   "name": "python3"
  },
  "language_info": {
   "codemirror_mode": {
    "name": "ipython",
    "version": 3
   },
   "file_extension": ".py",
   "mimetype": "text/x-python",
   "name": "python",
   "nbconvert_exporter": "python",
   "pygments_lexer": "ipython3",
   "version": "3.12.4"
  }
 },
 "nbformat": 4,
 "nbformat_minor": 5
}
